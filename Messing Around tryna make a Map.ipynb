{
 "cells": [
  {
   "cell_type": "code",
   "execution_count": 17,
   "metadata": {},
   "outputs": [
    {
     "ename": "SyntaxError",
     "evalue": "invalid syntax (<ipython-input-17-308e2b885583>, line 1)",
     "output_type": "error",
     "traceback": [
      "\u001b[1;36m  File \u001b[1;32m\"<ipython-input-17-308e2b885583>\"\u001b[1;36m, line \u001b[1;32m1\u001b[0m\n\u001b[1;33m    pyenv install 3.4.3\u001b[0m\n\u001b[1;37m                ^\u001b[0m\n\u001b[1;31mSyntaxError\u001b[0m\u001b[1;31m:\u001b[0m invalid syntax\n"
     ]
    }
   ],
   "source": [
    "pyenv install 3.4.3\n",
    "\n",
    "### I read online that one of these commands will let me download pandas to start doing some basic data gathering? https://nikgrozev.com/2015/12/27/pandas-in-jupyter-quickstart-and-useful-snippets/"
   ]
  },
  {
   "cell_type": "code",
   "execution_count": 21,
   "metadata": {},
   "outputs": [
    {
     "name": "stdout",
     "output_type": "stream",
     "text": [
      "hey there\n"
     ]
    }
   ],
   "source": [
    "print('hey there')"
   ]
  },
  {
   "cell_type": "code",
   "execution_count": 37,
   "metadata": {},
   "outputs": [
    {
     "name": "stdout",
     "output_type": "stream",
     "text": [
      "1\n",
      "2\n",
      "3\n",
      "4\n",
      "5\n",
      "6\n",
      "7\n",
      "8\n",
      "9\n",
      "10\n",
      "11\n",
      "12\n",
      "13\n",
      "14\n",
      "15\n",
      "16\n",
      "17\n",
      "18\n",
      "19\n",
      "20\n",
      "21\n",
      "22\n",
      "23\n",
      "24\n",
      "25\n",
      "26\n",
      "27\n",
      "28\n",
      "29\n"
     ]
    }
   ],
   "source": [
    "x = 1\n",
    "while x < 30:\n",
    "    print(x)\n",
    "    x += 1"
   ]
  },
  {
   "cell_type": "code",
   "execution_count": 2,
   "metadata": {},
   "outputs": [
    {
     "name": "stdout",
     "output_type": "stream",
     "text": [
      "Collecting ipyleaflet\n",
      "  Downloading https://files.pythonhosted.org/packages/c4/fe/01839b1cdcc4bf8c8424f3f1ddf50f9e4fbee2cb33b52645a4d2be28432c/ipyleaflet-0.9.0-py2.py3-none-any.whl (906kB)\n",
      "Collecting traittypes<3,>=0.2.1 (from ipyleaflet)\n",
      "  Downloading https://files.pythonhosted.org/packages/9c/d1/8d5bd662703cc1764d986f6908a608777305946fa634d34c470cd4a1e729/traittypes-0.2.1-py2.py3-none-any.whl\n",
      "Collecting xarray<0.11,>=0.10 (from ipyleaflet)\n",
      "  Downloading https://files.pythonhosted.org/packages/46/b9/155c8b4192c43f0830d9f7b52d412962a4ac34effbd12ac08da7db9a4397/xarray-0.10.8-py2.py3-none-any.whl (444kB)\n",
      "Requirement already satisfied: ipywidgets<8,>=7.0.0 in c:\\users\\ryan greene\\anaconda3\\lib\\site-packages (from ipyleaflet) (7.2.1)\n",
      "Requirement already satisfied: traitlets>=4.2.2 in c:\\users\\ryan greene\\anaconda3\\lib\\site-packages (from traittypes<3,>=0.2.1->ipyleaflet) (4.3.2)\n",
      "Requirement already satisfied: pandas>=0.19.2 in c:\\users\\ryan greene\\anaconda3\\lib\\site-packages (from xarray<0.11,>=0.10->ipyleaflet) (0.23.0)\n",
      "Requirement already satisfied: numpy>=1.12 in c:\\users\\ryan greene\\anaconda3\\lib\\site-packages (from xarray<0.11,>=0.10->ipyleaflet) (1.14.3)\n",
      "Requirement already satisfied: ipykernel>=4.5.1 in c:\\users\\ryan greene\\anaconda3\\lib\\site-packages (from ipywidgets<8,>=7.0.0->ipyleaflet) (4.8.2)\n",
      "Requirement already satisfied: nbformat>=4.2.0 in c:\\users\\ryan greene\\anaconda3\\lib\\site-packages (from ipywidgets<8,>=7.0.0->ipyleaflet) (4.4.0)\n",
      "Requirement already satisfied: widgetsnbextension~=3.2.0 in c:\\users\\ryan greene\\anaconda3\\lib\\site-packages (from ipywidgets<8,>=7.0.0->ipyleaflet) (3.2.1)\n",
      "Requirement already satisfied: ipython>=4.0.0 in c:\\users\\ryan greene\\anaconda3\\lib\\site-packages (from ipywidgets<8,>=7.0.0->ipyleaflet) (6.4.0)\n",
      "Requirement already satisfied: ipython_genutils in c:\\users\\ryan greene\\anaconda3\\lib\\site-packages (from traitlets>=4.2.2->traittypes<3,>=0.2.1->ipyleaflet) (0.2.0)\n",
      "Requirement already satisfied: six in c:\\users\\ryan greene\\anaconda3\\lib\\site-packages (from traitlets>=4.2.2->traittypes<3,>=0.2.1->ipyleaflet) (1.11.0)\n",
      "Requirement already satisfied: decorator in c:\\users\\ryan greene\\anaconda3\\lib\\site-packages (from traitlets>=4.2.2->traittypes<3,>=0.2.1->ipyleaflet) (4.3.0)\n",
      "Requirement already satisfied: pytz>=2011k in c:\\users\\ryan greene\\anaconda3\\lib\\site-packages (from pandas>=0.19.2->xarray<0.11,>=0.10->ipyleaflet) (2018.4)\n",
      "Requirement already satisfied: python-dateutil>=2.5.0 in c:\\users\\ryan greene\\anaconda3\\lib\\site-packages (from pandas>=0.19.2->xarray<0.11,>=0.10->ipyleaflet) (2.7.3)\n",
      "Requirement already satisfied: jupyter_client in c:\\users\\ryan greene\\anaconda3\\lib\\site-packages (from ipykernel>=4.5.1->ipywidgets<8,>=7.0.0->ipyleaflet) (5.2.3)\n",
      "Requirement already satisfied: tornado>=4.0 in c:\\users\\ryan greene\\anaconda3\\lib\\site-packages (from ipykernel>=4.5.1->ipywidgets<8,>=7.0.0->ipyleaflet) (5.0.2)\n",
      "Requirement already satisfied: jsonschema!=2.5.0,>=2.4 in c:\\users\\ryan greene\\anaconda3\\lib\\site-packages (from nbformat>=4.2.0->ipywidgets<8,>=7.0.0->ipyleaflet) (2.6.0)\n",
      "Requirement already satisfied: jupyter_core in c:\\users\\ryan greene\\anaconda3\\lib\\site-packages (from nbformat>=4.2.0->ipywidgets<8,>=7.0.0->ipyleaflet) (4.4.0)\n",
      "Requirement already satisfied: notebook>=4.4.1 in c:\\users\\ryan greene\\anaconda3\\lib\\site-packages (from widgetsnbextension~=3.2.0->ipywidgets<8,>=7.0.0->ipyleaflet) (5.5.0)\n",
      "Requirement already satisfied: jedi>=0.10 in c:\\users\\ryan greene\\anaconda3\\lib\\site-packages (from ipython>=4.0.0->ipywidgets<8,>=7.0.0->ipyleaflet) (0.12.0)\n",
      "Requirement already satisfied: backcall in c:\\users\\ryan greene\\anaconda3\\lib\\site-packages (from ipython>=4.0.0->ipywidgets<8,>=7.0.0->ipyleaflet) (0.1.0)\n",
      "Requirement already satisfied: simplegeneric>0.8 in c:\\users\\ryan greene\\anaconda3\\lib\\site-packages (from ipython>=4.0.0->ipywidgets<8,>=7.0.0->ipyleaflet) (0.8.1)\n",
      "Requirement already satisfied: pickleshare in c:\\users\\ryan greene\\anaconda3\\lib\\site-packages (from ipython>=4.0.0->ipywidgets<8,>=7.0.0->ipyleaflet) (0.7.4)\n",
      "Requirement already satisfied: pygments in c:\\users\\ryan greene\\anaconda3\\lib\\site-packages (from ipython>=4.0.0->ipywidgets<8,>=7.0.0->ipyleaflet) (2.2.0)\n",
      "Requirement already satisfied: colorama; sys_platform == \"win32\" in c:\\users\\ryan greene\\anaconda3\\lib\\site-packages (from ipython>=4.0.0->ipywidgets<8,>=7.0.0->ipyleaflet) (0.3.9)\n",
      "Requirement already satisfied: prompt-toolkit<2.0.0,>=1.0.15 in c:\\users\\ryan greene\\anaconda3\\lib\\site-packages (from ipython>=4.0.0->ipywidgets<8,>=7.0.0->ipyleaflet) (1.0.15)\n",
      "Requirement already satisfied: setuptools>=18.5 in c:\\users\\ryan greene\\anaconda3\\lib\\site-packages (from ipython>=4.0.0->ipywidgets<8,>=7.0.0->ipyleaflet) (39.1.0)\n",
      "Requirement already satisfied: pyzmq>=13 in c:\\users\\ryan greene\\anaconda3\\lib\\site-packages (from jupyter_client->ipykernel>=4.5.1->ipywidgets<8,>=7.0.0->ipyleaflet) (17.0.0)\n",
      "Requirement already satisfied: nbconvert in c:\\users\\ryan greene\\anaconda3\\lib\\site-packages (from notebook>=4.4.1->widgetsnbextension~=3.2.0->ipywidgets<8,>=7.0.0->ipyleaflet) (5.3.1)\n",
      "Requirement already satisfied: terminado>=0.8.1 in c:\\users\\ryan greene\\anaconda3\\lib\\site-packages (from notebook>=4.4.1->widgetsnbextension~=3.2.0->ipywidgets<8,>=7.0.0->ipyleaflet) (0.8.1)\n",
      "Requirement already satisfied: jinja2 in c:\\users\\ryan greene\\anaconda3\\lib\\site-packages (from notebook>=4.4.1->widgetsnbextension~=3.2.0->ipywidgets<8,>=7.0.0->ipyleaflet) (2.10)\n",
      "Requirement already satisfied: Send2Trash in c:\\users\\ryan greene\\anaconda3\\lib\\site-packages (from notebook>=4.4.1->widgetsnbextension~=3.2.0->ipywidgets<8,>=7.0.0->ipyleaflet) (1.5.0)\n",
      "Requirement already satisfied: parso>=0.2.0 in c:\\users\\ryan greene\\anaconda3\\lib\\site-packages (from jedi>=0.10->ipython>=4.0.0->ipywidgets<8,>=7.0.0->ipyleaflet) (0.2.0)\n",
      "Requirement already satisfied: wcwidth in c:\\users\\ryan greene\\anaconda3\\lib\\site-packages (from prompt-toolkit<2.0.0,>=1.0.15->ipython>=4.0.0->ipywidgets<8,>=7.0.0->ipyleaflet) (0.1.7)\n",
      "Requirement already satisfied: mistune>=0.7.4 in c:\\users\\ryan greene\\anaconda3\\lib\\site-packages (from nbconvert->notebook>=4.4.1->widgetsnbextension~=3.2.0->ipywidgets<8,>=7.0.0->ipyleaflet) (0.8.3)\n",
      "Requirement already satisfied: entrypoints>=0.2.2 in c:\\users\\ryan greene\\anaconda3\\lib\\site-packages (from nbconvert->notebook>=4.4.1->widgetsnbextension~=3.2.0->ipywidgets<8,>=7.0.0->ipyleaflet) (0.2.3)\n",
      "Requirement already satisfied: bleach in c:\\users\\ryan greene\\anaconda3\\lib\\site-packages (from nbconvert->notebook>=4.4.1->widgetsnbextension~=3.2.0->ipywidgets<8,>=7.0.0->ipyleaflet) (2.1.3)\n",
      "Requirement already satisfied: pandocfilters>=1.4.1 in c:\\users\\ryan greene\\anaconda3\\lib\\site-packages (from nbconvert->notebook>=4.4.1->widgetsnbextension~=3.2.0->ipywidgets<8,>=7.0.0->ipyleaflet) (1.4.2)\n",
      "Requirement already satisfied: testpath in c:\\users\\ryan greene\\anaconda3\\lib\\site-packages (from nbconvert->notebook>=4.4.1->widgetsnbextension~=3.2.0->ipywidgets<8,>=7.0.0->ipyleaflet) (0.3.1)\n",
      "Requirement already satisfied: MarkupSafe>=0.23 in c:\\users\\ryan greene\\anaconda3\\lib\\site-packages (from jinja2->notebook>=4.4.1->widgetsnbextension~=3.2.0->ipywidgets<8,>=7.0.0->ipyleaflet) (1.0)\n",
      "Requirement already satisfied: html5lib!=1.0b1,!=1.0b2,!=1.0b3,!=1.0b4,!=1.0b5,!=1.0b6,!=1.0b7,!=1.0b8,>=0.99999999pre in c:\\users\\ryan greene\\anaconda3\\lib\\site-packages (from bleach->nbconvert->notebook>=4.4.1->widgetsnbextension~=3.2.0->ipywidgets<8,>=7.0.0->ipyleaflet) (1.0.1)\n",
      "Requirement already satisfied: webencodings in c:\\users\\ryan greene\\anaconda3\\lib\\site-packages (from html5lib!=1.0b1,!=1.0b2,!=1.0b3,!=1.0b4,!=1.0b5,!=1.0b6,!=1.0b7,!=1.0b8,>=0.99999999pre->bleach->nbconvert->notebook>=4.4.1->widgetsnbextension~=3.2.0->ipywidgets<8,>=7.0.0->ipyleaflet) (0.5.1)\n",
      "Installing collected packages: traittypes, xarray, ipyleaflet\n",
      "Successfully installed ipyleaflet-0.9.0 traittypes-0.2.1 xarray-0.10.8\n"
     ]
    },
    {
     "name": "stderr",
     "output_type": "stream",
     "text": [
      "Enabling notebook extension jupyter-leaflet/extension...\n",
      "      - Validating: ok\n"
     ]
    }
   ],
   "source": [
    "!pip install ipyleaflet\n",
    "!jupyter nbextension enable --py --sys-prefix ipyleaflet"
   ]
  },
  {
   "cell_type": "code",
   "execution_count": 3,
   "metadata": {},
   "outputs": [],
   "source": [
    "import pandas as pd"
   ]
  },
  {
   "cell_type": "code",
   "execution_count": 16,
   "metadata": {},
   "outputs": [
    {
     "data": {
      "application/vnd.jupyter.widget-view+json": {
       "model_id": "1989a05682be4ea2a8a676acefbfea81",
       "version_major": 2,
       "version_minor": 0
      },
      "text/plain": [
       "Map(basemap={'url': 'https://{s}.tile.openstreetmap.org/{z}/{x}/{y}.png', 'max_zoom': 19, 'attribution': 'Map …"
      ]
     },
     "metadata": {},
     "output_type": "display_data"
    }
   ],
   "source": [
    "from ipyleaflet import Map\n",
    "Map(center=[32.7766, -96.7969], zoom=15)\n",
    "\n",
    "### Utilizing a set of latitude and longitude coordinates for Dallas, I was able to use leaflet to pull up a map of downtown Dallas, which would be really useful for visualizing geographical data, or portraying forcasting.\n",
    "## I'm told that there's also ways for me to highlight and draw on the maps, but that sounds a little harder-- I'd like to be able to put a topographical skin over the map to do that sort of visualization."
   ]
  },
  {
   "cell_type": "code",
   "execution_count": null,
   "metadata": {},
   "outputs": [],
   "source": [
    "# Frankly I found getting everything going a little harder. Python kept telling me I had to launch things outside the shell, so I had to do some digging myself.\n",
    "# People online made the work look so easy, as did the articles, but I guess there's differences across machines that make some lessons less transmitable?"
   ]
  },
  {
   "cell_type": "code",
   "execution_count": 22,
   "metadata": {},
   "outputs": [
    {
     "ename": "SyntaxError",
     "evalue": "invalid syntax (<ipython-input-22-983a00a0eb8b>, line 1)",
     "output_type": "error",
     "traceback": [
      "\u001b[1;36m  File \u001b[1;32m\"<ipython-input-22-983a00a0eb8b>\"\u001b[1;36m, line \u001b[1;32m1\u001b[0m\n\u001b[1;33m    git init\u001b[0m\n\u001b[1;37m           ^\u001b[0m\n\u001b[1;31mSyntaxError\u001b[0m\u001b[1;31m:\u001b[0m invalid syntax\n"
     ]
    }
   ],
   "source": []
  },
  {
   "cell_type": "code",
   "execution_count": null,
   "metadata": {},
   "outputs": [],
   "source": []
  }
 ],
 "metadata": {
  "kernelspec": {
   "display_name": "Python 3",
   "language": "python",
   "name": "python3"
  },
  "language_info": {
   "codemirror_mode": {
    "name": "ipython",
    "version": 3
   },
   "file_extension": ".py",
   "mimetype": "text/x-python",
   "name": "python",
   "nbconvert_exporter": "python",
   "pygments_lexer": "ipython3",
   "version": "3.6.5"
  }
 },
 "nbformat": 4,
 "nbformat_minor": 2
}
